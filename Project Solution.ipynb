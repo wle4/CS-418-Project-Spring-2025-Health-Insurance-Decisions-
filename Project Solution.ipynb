{
 "cells": [
  {
   "cell_type": "code",
   "execution_count": 1,
   "id": "4bfd4897",
   "metadata": {},
   "outputs": [
    {
     "name": "stdout",
     "output_type": "stream",
     "text": [
      "Enter details for the new patient case:\n",
      "Enter Diagnosis Category (e.g., Mental Disorder, Autism Spectrum): Mental Disorder\n",
      "Enter Patient Gender (Male or Female): Female\n",
      "Enter Age Range (e.g., 0 to 10, 11 to 20, 41 to 50, 65+): 11 to 20\n",
      "Enter Days to Review (e.g., 45): 60\n",
      "Enter Days to Adopt (e.g., 30): 50\n",
      "\n",
      "Prediction for this case: Low Risk\n"
     ]
    }
   ],
   "source": [
    "import pandas as pd\n",
    "import joblib\n",
    "from sklearn.ensemble import RandomForestClassifier\n",
    "from sklearn.model_selection import train_test_split\n",
    "\n",
    "df = pd.read_csv('healthData.csv')\n",
    "\n",
    "df = df.drop_duplicates(subset='ReferenceID')\n",
    "df = df.dropna(subset=['DaysToReview', 'DaysToAdopt', 'DiagnosisCategory', 'PatientGender', 'AgeRange', 'Determination'])\n",
    "df['DeterminationBinary'] = df['Determination'].map({\n",
    "    'Overturned Decision of Health Plan': 0,\n",
    "    'Upheld Decision of Health Plan': 1\n",
    "})\n",
    "\n",
    "X = pd.get_dummies(df[['DiagnosisCategory', 'PatientGender', 'AgeRange']], drop_first=True)\n",
    "X['DaysToReview'] = df['DaysToReview']\n",
    "X['DaysToAdopt'] = df['DaysToAdopt']\n",
    "y = df['DeterminationBinary']\n",
    "\n",
    "X_train, X_test, y_train, y_test = train_test_split(X, y, test_size=0.2, random_state=42)\n",
    "\n",
    "rf_model = RandomForestClassifier(random_state=42)\n",
    "rf_model.fit(X_train, y_train)\n",
    "\n",
    "joblib.dump(rf_model, 'rf_flagging_model.pkl')\n",
    "\n",
    "def flag_high_risk_case(new_data):\n",
    "    model = joblib.load('rf_flagging_model.pkl')\n",
    "    \n",
    "    new_df = pd.DataFrame([new_data])\n",
    "    new_df_encoded = pd.get_dummies(new_df)\n",
    "    \n",
    "    for col in X.columns:\n",
    "        if col not in new_df_encoded:\n",
    "            new_df_encoded[col] = 0\n",
    "    new_df_encoded = new_df_encoded[X.columns]\n",
    "    \n",
    "    prediction = model.predict(new_df_encoded)\n",
    "    \n",
    "    if prediction[0] == 0:\n",
    "        return \"High Risk Flag\"\n",
    "    else:\n",
    "        return \"Low Risk\"\n",
    "\n",
    "def get_user_case():\n",
    "    print(\"Enter details for the new patient case:\")\n",
    "\n",
    "    diagnosis = input(\"Enter Diagnosis Category (e.g., Mental Disorder, Autism Spectrum): \").strip()\n",
    "    gender = input(\"Enter Patient Gender (Male or Female): \").strip()\n",
    "    age_range = input(\"Enter Age Range (e.g., 0 to 10, 11 to 20, 41 to 50, 65+): \").strip()\n",
    "    days_to_review = int(input(\"Enter Days to Review (e.g., 45): \").strip())\n",
    "    days_to_adopt = int(input(\"Enter Days to Adopt (e.g., 30): \").strip())\n",
    "\n",
    "    user_case = {\n",
    "        f'DiagnosisCategory_{diagnosis}': 1,\n",
    "        f'PatientGender_{gender}': 1,\n",
    "        f'AgeRange_{age_range}': 1,\n",
    "        'DaysToReview': days_to_review,\n",
    "        'DaysToAdopt': days_to_adopt\n",
    "    }\n",
    "    \n",
    "    return user_case\n",
    "\n",
    "new_case = get_user_case()\n",
    "\n",
    "flag_result = flag_high_risk_case(new_case)\n",
    "print(\"\\nPrediction for this case:\", flag_result)"
   ]
  },
  {
   "cell_type": "code",
   "execution_count": null,
   "id": "522a061f",
   "metadata": {},
   "outputs": [],
   "source": []
  }
 ],
 "metadata": {
  "kernelspec": {
   "display_name": "Python 3 (ipykernel)",
   "language": "python",
   "name": "python3"
  },
  "language_info": {
   "codemirror_mode": {
    "name": "ipython",
    "version": 3
   },
   "file_extension": ".py",
   "mimetype": "text/x-python",
   "name": "python",
   "nbconvert_exporter": "python",
   "pygments_lexer": "ipython3",
   "version": "3.9.7"
  }
 },
 "nbformat": 4,
 "nbformat_minor": 5
}
